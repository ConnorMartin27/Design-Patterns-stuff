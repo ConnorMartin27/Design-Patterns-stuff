{
 "cells": [
  {
   "cell_type": "code",
   "execution_count": 3,
   "id": "f07511b5-8c4a-49e6-b295-a2bd17c28553",
   "metadata": {},
   "outputs": [],
   "source": [
    "# Design Patterns Logbook #\n",
    "# Connor Martin #\n",
    "# ID: 22134458 #\n",
    "# September 2024 #"
   ]
  },
  {
   "cell_type": "markdown",
   "id": "1f3afacc-879b-430c-a7a9-5d22efaea479",
   "metadata": {},
   "source": [
    "## <font color=\"red\">Logbook Exercise 1</font> ##\n",
    "\n",
    "Insert a 'code' cell below. In this do the following:\n",
    "\n",
    "- line 1 - create a list named \"shopping_list\" with items: milk, eggs, bread, cheese, tea, coffee, rice, pasta, milk, tea (<font color=\"red\">NOTE: the duplicate items are intentional</font>)\n",
    "- line 2 - print the list along with a message e.g. \"This is my shopping list ...\"\n",
    "- line 3 - create a tuple named \"shopping_tuple\" with the same items\n",
    "- line 4 - print the tuple with similar message e.g. \"This is my shopping tuple ...\"\n",
    "- line 5 - create a set named \"shopping_set\" from \"shopping_list\" by using the set() method\n",
    "- line 6 - print the set with appropriate message and check duplicate items have been removed\n",
    "- line 7 - make a dictionary \"shopping_dict\" - copy and paste the following items and prices: \"milk\": \"£1.20\", \"eggs\": \"£0.87\", \"bread\": \"£0.64\", \"cheese\": \"£1.75\", \"tea\": \"£1.06\", \"coffee\": \"£2.15\", \"rice\": \"£1.60\", \"pasta\": \"£1.53\".\n",
    "- line 8 - print the dictionary with an appropriate message \n",
    "\n",
    "An example of fully described printed output is presented below (some clues here also)\n",
    "Don't worry of your text output is different - it is the contents of the compund variables that matter\n",
    "\n",
    "```\n",
    "This is my shopping list ['milk', 'eggs', 'bread', 'cheese', 'tea', 'coffee', 'rice', 'pasta', 'milk', 'tea']\n",
    "This is my shopping tuple ('milk', 'eggs', 'bread', 'cheese', 'tea', 'coffee', 'rice', 'pasta', 'milk', 'tea')\n",
    "This is my Shopping_set with duplicates removes {'rice', 'milk', 'pasta', 'cheese', 'eggs', 'tea', 'bread', 'coffee'}\n",
    "This is my shopping_dict {'milk': '£1.20', 'eggs': '£0.87', 'bread': '£0.64', 'cheese': '£1.75', 'tea': '£1.06', 'coffee': '£2.15', 'rice': '£1.60', 'pasta': '£1.53'}\n",
    "```"
   ]
  },
  {
   "cell_type": "code",
   "execution_count": 36,
   "id": "31467c1b-c11a-4d3d-990f-efd9a21a7ac2",
   "metadata": {},
   "outputs": [
    {
     "name": "stdout",
     "output_type": "stream",
     "text": [
      "this is my shopping list:  ['milk', 'eggs', 'break', 'cheese', 'tea', 'coffee', 'rice', 'pasta', 'milk', 'tea']\n",
      "this is my shopping tuple:  ('milk', 'eggs', 'break', 'cheese', 'tea', 'coffee', 'rice', 'pasta', 'milk', 'tea')\n",
      "this is my shopping set:  {'eggs', 'tea', 'pasta', 'rice', 'cheese', 'coffee', 'milk', 'break'}\n",
      "these are the prices:  {'milk': '£1.20', 'eggs': '£0.87', 'bread': '£0.64', 'cheese': '£1.75', 'tea': '£1.06', 'coffee': '£2.15', 'rice': '£1.60', 'pasta': '£1.53'}\n"
     ]
    }
   ],
   "source": [
    "shopping_list = ['milk', 'eggs', 'break', 'cheese', 'tea', 'coffee', 'rice', 'pasta', 'milk', 'tea']\n",
    "shopping_tuple = ('milk', 'eggs', 'break', 'cheese', 'tea', 'coffee', 'rice', 'pasta', 'milk', 'tea')\n",
    "shopping_set = set(('milk', 'eggs', 'break', 'cheese', 'tea', 'coffee', 'rice', 'pasta', 'milk', 'tea'))\n",
    "shopping_dict = { \"milk\": \"£1.20\", \"eggs\": \"£0.87\", \"bread\": \"£0.64\", \"cheese\": \"£1.75\", \"tea\": \"£1.06\", \"coffee\": \"£2.15\", \"rice\": \"£1.60\", \"pasta\": \"£1.53\"}\n",
    "\n",
    "print (\"this is my shopping list: \", shopping_list)\n",
    "print (\"this is my shopping tuple: \", shopping_tuple)\n",
    "print (\"this is my shopping set: \", shopping_set)\n",
    "print (\"these are the prices: \" , shopping_dict)\n",
    "       "
   ]
  },
  {
   "cell_type": "markdown",
   "id": "5b1282c4-55ed-4fd0-85aa-8b1b57b84dfb",
   "metadata": {},
   "source": [
    "## <font color=\"red\">Logbook Exercise 2</font> ##\n",
    "\n",
    "Create a 'code' cell below. In this do the following:\n",
    "\n",
    "- line 1 - Use a comment to title your exercise - e.g. \"Unit 2 Exercise\" \n",
    "- line 2 - create a list ... li = [\"USA\",\"Mexico\",\"Canada\"]\n",
    "- line 3 - append \"Greenland\" to the list\n",
    "- l4 - print the list to de,monstrate that Greenland is attached\n",
    "- l5 - remove \"Greenland\"\n",
    "- l6 - print the list to de,monstrate that Greenland is removed\n",
    "- l7 - insert \"Greenland\" at the beginning of the list\n",
    "- l8 - print the resul of l7\n",
    "- l9 - shorthand slice the list to extract the first two items - simultaneausly print the output\n",
    "- l10 - use a negative index to extract the second to last item - simultaneausly print the output\n",
    "- l11 - use a splitting sequence to extract the middle two items - simultaneausly print the output\n",
    "\n",
    "An example of fully described printed output is presented below (some clues here also)\n",
    "Don't worry of your text output is different - it is the contents of the list that matter\n",
    "\n",
    "```\n",
    "li.append('Greenland') gives ...  ['USA', 'Mexico', 'Canada', 'Greenland']\n",
    "li.remove('Greenland') gives ...  ['USA', 'Mexico', 'Canada']\n",
    "li.insert(0,'Greenland') gives ...  ['Greenland', 'USA', 'Mexico', 'Canada']\n",
    "li[:2] gives ...  ['Greenland', 'USA']\n",
    "li[-2] gives ...  Mexico\n",
    "li[1:3] gives ...  ['USA', 'Mexico']\n",
    "```"
   ]
  },
  {
   "cell_type": "code",
   "execution_count": 9,
   "id": "cc3e61d3-b809-4365-be68-64b9e34c0f87",
   "metadata": {},
   "outputs": [
    {
     "name": "stdout",
     "output_type": "stream",
     "text": [
      "['USA', 'Mexico', 'Canada']\n",
      "['USA', 'Mexico', 'Canada', 'Greenland']\n",
      "['USA', 'Mexico', 'Canada']\n",
      "['Greenland', 'USA', 'Mexico', 'Canada']\n",
      "['Greenland', 'USA']\n",
      "Mexico\n",
      "['USA', 'Mexico']\n"
     ]
    }
   ],
   "source": [
    "# Exercise 2 #\n",
    "country_list = [\"USA\",\"Mexico\",\"Canada\"]\n",
    "print(country_list)\n",
    "country_list.append(\"Greenland\")\n",
    "print(country_list)\n",
    "country_list.remove(\"Greenland\")\n",
    "print(country_list)\n",
    "country_list.insert(0,\"Greenland\")\n",
    "print(country_list)\n",
    "print(country_list[:2])\n",
    "print(country_list[-2])\n",
    "print(country_list[1:3])"
   ]
  },
  {
   "cell_type": "markdown",
   "id": "ff792a67-d2a0-401e-9ff8-30fda13aa61d",
   "metadata": {},
   "source": [
    "## <font color=\"red\">Logbook Exercise 3</font> ##\n",
    "\n",
    "Create a 'code' cell below. In this do the following:\n",
    "- on the first line create the following set ... a=[0,1,2,3,4,5,6,7,8,9,10] \n",
    "- on the second line create the following set ... b=[0,5,10,15,20,25]\n",
    "- on the third line create the following dictionary ... topscores={\"Jo\":999, \"Sue\":987, \"Tara\":960; \"Mike\":870}\n",
    "- use a combination of print() and type() methods to produce the following output\n",
    "\n",
    "```\n",
    "list a is ...  [0, 1, 2, 3, 4, 5, 6, 7, 8, 9, 10]\n",
    "list b is ...  [0, 5, 10, 15, 20, 25]\n",
    "The type of a is now ... <class 'list'>\n",
    "```\n",
    "\n",
    "- on the next 2 lines convert list a and b to sets using set()\n",
    "- on the following lines use a combination of print(), type() and set notaion (e.g. 'a & b', 'a | b', 'b-a') to obtain the following output\n",
    "\n",
    "```\n",
    "set a is ...  {0, 1, 2, 3, 4, 5, 6, 7, 8, 9, 10}\n",
    "set b is ...  {0, 5, 10, 15, 20, 25}\n",
    "The type of a is now ... <class 'set'>\n",
    "Intersect of a and b is [0, 10, 5]\n",
    "Union of a and b is [0, 1, 2, 3, 4, 5, 6, 7, 8, 9, 10, 15, 20, 25]\n",
    "Items unique to set b are {25, 20, 15}\n",
    "```\n",
    "\n",
    "- on the next 2 lines use print(), '.keys()' and '.values()' methods to obtain the following output \n",
    "\n",
    "```\n",
    "topscores dictionary keys are dict_keys(['Jo', 'Sue', 'Tara', 'Mike'])\n",
    "topscores dictionary values are dict_values([999, 987, 960, 870])\n",
    "```"
   ]
  },
  {
   "cell_type": "code",
   "execution_count": 29,
   "id": "bab752f4-1e1a-4b4f-98f5-e11163b06892",
   "metadata": {},
   "outputs": [
    {
     "name": "stdout",
     "output_type": "stream",
     "text": [
      "list a is  [0, 1, 2, 3, 4, 5, 6, 7, 8, 9, 10]\n",
      "list b is  [0, 5, 10, 15, 20, 25]\n",
      "The type of a is now  <class 'list'>\n",
      "set a is  {0, 1, 2, 3, 4, 5, 6, 7, 8, 9, 10}\n",
      "set b is  {0, 5, 10, 15, 20, 25}\n",
      "The type of a is now  <class 'set'>\n",
      "Intersect of a and b is  {0, 10, 5}\n",
      "Union of a and b is  {0, 1, 2, 3, 4, 5, 6, 7, 8, 9, 10, 15, 20, 25}\n",
      "Items unique to set b are  {25, 20, 15}\n",
      "topscores dictionary keys are  dict_keys(['Jo', 'Sue', 'Tara', 'Mike'])\n",
      "topscores dictionary values are  dict_values([999, 987, 960, 870])\n"
     ]
    }
   ],
   "source": [
    "a=[0,1,2,3,4,5,6,7,8,9,10]\n",
    "b=[0,5,10,15,20,25]\n",
    "topscores= {\"Jo\": 999, \"Sue\": 987, \"Tara\": 960, \"Mike\": 870}\n",
    "print(\"list a is \", a)\n",
    "print(\"list b is \", b)\n",
    "print(\"The type of a is now \",type(a))\n",
    "a = set(a)\n",
    "b = set(b)\n",
    "print (\"set a is \", a)\n",
    "print (\"set b is \", b)\n",
    "print (\"The type of a is now \", type(a))\n",
    "print (\"Intersect of a and b is \", a & b)\n",
    "print (\"Union of a and b is \", a | b)\n",
    "print (\"Items unique to set b are \", b-a)\n",
    "print (\"topscores dictionary keys are \", topscores.keys())\n",
    "print (\"topscores dictionary values are \", topscores.values())"
   ]
  },
  {
   "cell_type": "markdown",
   "id": "812463e1-427e-4578-a5a9-cab170a5a0e7",
   "metadata": {},
   "source": [
    "### <font color=\"red\">Logbook Exercise 4</font> ###\n",
    "\n",
    "Create a 'code' cell below. In this do the following:\n",
    "- Given the following 4 lists of names, house number and street addresses, towns and postcodes ...  \n",
    "\n",
    "```\n",
    "[\"T Cruise\",\"D Francis\",\"C White\"]\n",
    "[\"2 West St\",\"65 Deadend Cls\",\"15 Magdalen Rd\"]\n",
    "[\"Canterbury\", \"Reading\", \"Oxford\"]\n",
    "[\"CT8 23RD\", \"RG4 1FG\", \"OX4 3AS\"]\n",
    "```\n",
    "\n",
    "- write a Custom 'address_machine' function that formats 'name', 'hs_number_street', 'town', 'postcode' with commas and spaces between items\n",
    "- create a 'newlist' that repeatedly calls 'address_machine' and 'zips' items from the 4 lists\n",
    "- write a 'for loop' that iterates over 'new list' and prints each name and address on a separate line\n",
    "- the output should appear as follows\n",
    "\n",
    "```\n",
    "T Cruise, 2 West St, Canterbury, CT8 23RD\n",
    "D Francis, 65 Deadend Cls, Reading, RG4 1FG\n",
    "C White, 15 Magdalen Rd, Oxford, OX4 3AS\n",
    "```\n",
    "\n",
    "- <font color=\"red\">HINT:</font> look at \"# CUSTOM FUNCTION WORKED EXAMPLES 3 & 4\" above"
   ]
  },
  {
   "cell_type": "markdown",
   "id": "60c24658-1ae2-46b5-a595-00ce027f4233",
   "metadata": {},
   "source": []
  },
  {
   "cell_type": "code",
   "execution_count": 76,
   "id": "4dd0aa68-44f2-44d2-ad7c-90706814160c",
   "metadata": {},
   "outputs": [
    {
     "name": "stdout",
     "output_type": "stream",
     "text": [
      "T Cruise, 2 West St, Canterbury, CT8 23RD \n",
      "D Francis, 65 Deadend Cls, Reading, RG4 1FG \n",
      "C White, 15 Magdalen Rd, Oxford, OX4 3AS \n"
     ]
    }
   ],
   "source": [
    "a = [\"T Cruise\",\"D Francis\",\"C White\"]\n",
    "b = [\"2 West St\",\"65 Deadend Cls\",\"15 Magdalen Rd\"]\n",
    "c = [\"Canterbury\", \"Reading\", \"Oxford\"]\n",
    "d = [\"CT8 23RD\", \"RG4 1FG\", \"OX4 3AS\"]\n",
    "\n",
    "def address_machine(name, hs_number_street, town, postcode):\n",
    "    info = \"{0}, {1}, {2}, {3} \".format(name, hs_number_street, town, postcode)\n",
    "    return info\n",
    "newlist = [address_machine(a, b, c, d) \n",
    "           for a, b, c, d in zip(a, b, c, d)]\n",
    "for address in newlist:\n",
    "    print(address)"
   ]
  },
  {
   "cell_type": "code",
   "execution_count": null,
   "id": "59229a1b-e4c0-4f43-a96f-829b83fa0ab8",
   "metadata": {},
   "outputs": [],
   "source": []
  }
 ],
 "metadata": {
  "kernelspec": {
   "display_name": "Python 3 (ipykernel)",
   "language": "python",
   "name": "python3"
  },
  "language_info": {
   "codemirror_mode": {
    "name": "ipython",
    "version": 3
   },
   "file_extension": ".py",
   "mimetype": "text/x-python",
   "name": "python",
   "nbconvert_exporter": "python",
   "pygments_lexer": "ipython3",
   "version": "3.12.7"
  }
 },
 "nbformat": 4,
 "nbformat_minor": 5
}
